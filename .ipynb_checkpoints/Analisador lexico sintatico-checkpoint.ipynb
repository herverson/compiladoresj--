{
 "cells": [
  {
   "cell_type": "code",
   "execution_count": 1,
   "id": "f0fb3300",
   "metadata": {},
   "outputs": [],
   "source": [
    "from lark import Lark"
   ]
  },
  {
   "cell_type": "code",
   "execution_count": 3,
   "id": "d3ecc1c9",
   "metadata": {},
   "outputs": [],
   "source": [
    "grammar = '''\n",
    "start : main_class class_declaration*\n",
    "!main_class : \"class\" IDENTIFIER \"{\" reserved_string reserved_string reserved_string reserved_string \"(\" reserved_string \"[\" \"]\" IDENTIFIER \")\" \"{\" statement \"}\" \"}\"\n",
    "class_declaration : \"class\" IDENTIFIER ( \"extends\"i IDENTIFIER )? \"{\" ( var_declaration )* ( method_declaration )* \"}\"\n",
    "var_declaration : type IDENTIFIER \";\"\n",
    "method_declaration : reserved_string type IDENTIFIER \"(\" ( type IDENTIFIER ( \",\" type IDENTIFIER )* )? \")\" \"{\" ( var_declaration )* ( statement )* \"return\" expression \";\" \"}\"\n",
    "!type : \"int [ ]\"\n",
    "       | \"boolean\"\n",
    "       | \"int\"\n",
    "       | IDENTIFIER\n",
    "!statement : \"{\" ( statement )* \"}\"\n",
    "            | \"if\" \"(\"expression \")\" statement \"else\" statement\n",
    "            | \"while\" \"(\" expression \")\" statement\n",
    "            | \"System.out.println\" \"(\" expression \")\" \";\"\n",
    "            | IDENTIFIER \"=\" expression \";\"\n",
    "            | IDENTIFIER \"[\" expression \"]\" \"=\" expression \";\"\n",
    "!expression : expression ( \"&&\" | \"<\" | \"+\" | \"-\" | \"*\" ) expression\n",
    "            | expression \"[\" expression \"]\"\n",
    "            | expression \".\" \"length\"\n",
    "            | expression \".\" IDENTIFIER \"(\" ( expression ( \",\" expression )* )? \")\"\n",
    "            | DIGIT*\n",
    "            | \"true\"\n",
    "            | \"false\"\n",
    "            | IDENTIFIER\n",
    "            | \"this\"\n",
    "            | \"new\" \"int\" \"[\" expression \"]\"\n",
    "            | \"new\" IDENTIFIER \"(\" \")\"\n",
    "            | \"!\" expression\n",
    "            | \"(\" expression \")\"\n",
    "IDENTIFIER:  /[a-zA-Z_][0-9a-zA-Z_]*/\n",
    "!reserved_string: \"int\" | \"public\" | \"void\" | \"main\" | \"static\"\n",
    "INTEGRAL_TYPE: \"int\" | \"byte\" | \"short\"\n",
    "COMMENT : \"/*\"  /.*?/ \"*/\"\n",
    "DIGIT: /\\d+/\n",
    "%import common.WORD\n",
    "%import common.ESCAPED_STRING\n",
    "%import common.WS\n",
    "\n",
    "%ignore WS\n",
    "%ignore ESCAPED_STRING\n",
    "%ignore COMMENT\n",
    "%ignore \" \"\n",
    "'''\n"
   ]
  },
  {
   "cell_type": "code",
   "execution_count": 4,
   "id": "4693568b",
   "metadata": {},
   "outputs": [],
   "source": [
    "test_code = '''class Teste{\n",
    "    /** um comentario **/\n",
    "    public static void main(int[] a){\n",
    "        System.out.println(10);\n",
    "    }\n",
    "}\n",
    "'''"
   ]
  },
  {
   "cell_type": "code",
   "execution_count": 5,
   "id": "d957ecbf",
   "metadata": {},
   "outputs": [
    {
     "name": "stdout",
     "output_type": "stream",
     "text": [
      "Tree('start', [Tree('main_class', [Token('CLASS', 'class'), Token('IDENTIFIER', 'Teste'), Token('LBRACE', '{'), Tree('reserved_string', [Token('PUBLIC', 'public')]), Tree('reserved_string', [Token('STATIC', 'static')]), Tree('reserved_string', [Token('VOID', 'void')]), Tree('reserved_string', [Token('MAIN', 'main')]), Token('LPAR', '('), Tree('reserved_string', [Token('INT', 'int')]), Token('LSQB', '['), Token('RSQB', ']'), Token('IDENTIFIER', 'a'), Token('RPAR', ')'), Token('LBRACE', '{'), Tree('statement', [Token('__ANON_1', 'System.out.println'), Token('LPAR', '('), Tree('expression', [Token('DIGIT', '10')]), Token('RPAR', ')'), Token('SEMICOLON', ';')]), Token('RBRACE', '}'), Token('RBRACE', '}')])])\n"
     ]
    }
   ],
   "source": [
    "j = Lark(grammar)\n",
    "parse = j.parse(test_code)\n",
    "print(parse)"
   ]
  },
  {
   "cell_type": "code",
   "execution_count": null,
   "id": "2ae5a779",
   "metadata": {},
   "outputs": [],
   "source": []
  }
 ],
 "metadata": {
  "kernelspec": {
   "display_name": "Python 3",
   "language": "python",
   "name": "python3"
  },
  "language_info": {
   "codemirror_mode": {
    "name": "ipython",
    "version": 3
   },
   "file_extension": ".py",
   "mimetype": "text/x-python",
   "name": "python",
   "nbconvert_exporter": "python",
   "pygments_lexer": "ipython3",
   "version": "3.8.8"
  }
 },
 "nbformat": 4,
 "nbformat_minor": 5
}
